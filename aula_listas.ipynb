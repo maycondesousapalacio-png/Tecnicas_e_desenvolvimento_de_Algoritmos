{
  "nbformat": 4,
  "nbformat_minor": 0,
  "metadata": {
    "colab": {
      "provenance": [],
      "authorship_tag": "ABX9TyP7hx58A2LywvbNnqJA+ye2",
      "include_colab_link": true
    },
    "kernelspec": {
      "name": "python3",
      "display_name": "Python 3"
    },
    "language_info": {
      "name": "python"
    }
  },
  "cells": [
    {
      "cell_type": "markdown",
      "metadata": {
        "id": "view-in-github",
        "colab_type": "text"
      },
      "source": [
        "<a href=\"https://colab.research.google.com/github/maycondesousapalacio-png/Tecnicas_e_desenvolvimento_de_Algoritmos/blob/main/aula_listas.ipynb\" target=\"_parent\"><img src=\"https://colab.research.google.com/assets/colab-badge.svg\" alt=\"Open In Colab\"/></a>"
      ]
    },
    {
      "cell_type": "markdown",
      "source": [
        "# Disciplina: Técnicas de Desenvolvimento de Algoritmo\n",
        "Curso: Ciências da computação\n",
        "\n",
        "Aluno: Maycon de Sousa Palácio"
      ],
      "metadata": {
        "id": "5L24-pB6VFKf"
      }
    },
    {
      "cell_type": "code",
      "source": [
        "# Exemplos básicos de listas\n",
        "listai = [10, 20, 30, 40]\n",
        "listai2 = (\"programação\", \"UO\", \"python\")\n",
        "listai3 = (\"C#\", 2.0, 5, [10, 20])\n",
        "print(listai)\n",
        "print(listai2)\n",
        "print(listai3)"
      ],
      "metadata": {
        "colab": {
          "base_uri": "https://localhost:8080/"
        },
        "id": "LWRtDnLMWIfu",
        "outputId": "4166abec-3821-4a73-e683-1886d3c5bb3d"
      },
      "execution_count": null,
      "outputs": [
        {
          "output_type": "stream",
          "name": "stdout",
          "text": [
            "<class 'int'>\n"
          ]
        }
      ]
    },
    {
      "cell_type": "code",
      "source": [
        "# Como usar listas\n",
        "notas = [8.0, 5.5, 9.5, 7.6, 3.1]\n",
        "print(notas[0])\n",
        "print(notas[1])\n",
        "print(notas[2])\n",
        "print(notas[3])\n",
        "print(notas[4])"
      ],
      "metadata": {
        "id": "7xRNSuahdE88"
      },
      "execution_count": null,
      "outputs": []
    },
    {
      "cell_type": "code",
      "source": [
        "# Operações com listas\n",
        "print(notas[0] + 2)\n",
        "notas[3] = 0.5\n",
        "print(notas)\n",
        "len(notas)"
      ],
      "metadata": {
        "id": "GQsLFKvTdLPZ"
      },
      "execution_count": null,
      "outputs": []
    },
    {
      "cell_type": "code",
      "source": [
        "# Percorrendo lista com for\n",
        "for kadidja in range(5):\n",
        "    print(notas[kadidja])"
      ],
      "metadata": {
        "id": "MbAuxD4EdOSx"
      },
      "execution_count": null,
      "outputs": []
    },
    {
      "cell_type": "code",
      "source": [
        "# Preenchendo lista com valores\n",
        "lista = [0, 0, 0, 0, 0, 0, 0, 0, 0, 0]\n",
        "for i in range(10):\n",
        "    lista[i] = 5 * i\n",
        "print(lista)\n",
        "len(lista)"
      ],
      "metadata": {
        "id": "ZaAoR16mdR7t"
      },
      "execution_count": null,
      "outputs": []
    },
    {
      "cell_type": "code",
      "source": [
        "# Índices negativos\n",
        "notas = [8.0, 5.5, 9.3, 0.5, 3.1]\n",
        "print(notas[-1])\n",
        "print(notas[-2])\n",
        "print(notas[-3])\n",
        "print(notas[-4])\n",
        "print(notas[-5])"
      ],
      "metadata": {
        "id": "ucrsDQsVdUhW"
      },
      "execution_count": null,
      "outputs": []
    },
    {
      "cell_type": "code",
      "source": [
        "# Tamanho da lista (len)\n",
        "len(notas)"
      ],
      "metadata": {
        "id": "j_xDGnM3dXsb"
      },
      "execution_count": null,
      "outputs": []
    },
    {
      "cell_type": "code",
      "source": [
        "# Percorrendo lista com for e range\n",
        "for i in range(len(notas)):\n",
        "    print(notas[i])"
      ],
      "metadata": {
        "id": "W8sH3guZdcPt"
      },
      "execution_count": null,
      "outputs": []
    },
    {
      "cell_type": "code",
      "source": [
        "# Percorrendo lista com for direto\n",
        "for i in notas:\n",
        "    print(i)"
      ],
      "metadata": {
        "id": "6gN5QbeKdezz"
      },
      "execution_count": null,
      "outputs": []
    },
    {
      "cell_type": "code",
      "source": [
        "# Método append\n",
        "notas.append(10.0)\n",
        "notas.append(12.0)\n",
        "print(notas)\n",
        "len(notas)"
      ],
      "metadata": {
        "id": "HV2pKFIIdhLg"
      },
      "execution_count": null,
      "outputs": []
    },
    {
      "cell_type": "code",
      "source": [
        "# Lendo dados para lista\n",
        "notas = []\n",
        "n = int(input(\"Entre com o número de notas: \"))\n",
        "for i in range(n):\n",
        "    dado = float(input(\"Entre com a nota \" + str(i) + \": \"))\n",
        "    notas.append(dado)\n",
        "print(notas)"
      ],
      "metadata": {
        "id": "6KnTsEFEdjSI"
      },
      "execution_count": null,
      "outputs": []
    },
    {
      "cell_type": "code",
      "source": [
        "# Concatenação de listas\n",
        "lista1 = [1, 2, 3]\n",
        "lista2 = [4, 5, 6]\n",
        "x = lista1 + lista2\n",
        "print(x)"
      ],
      "metadata": {
        "id": "MrE8a07RdmvT"
      },
      "execution_count": null,
      "outputs": []
    },
    {
      "cell_type": "code",
      "source": [
        "# Operador *\n",
        "x = [1, 2, 3]\n",
        "y = 4 * x\n",
        "print(y)"
      ],
      "metadata": {
        "id": "MDE_A2mmdvXm"
      },
      "execution_count": null,
      "outputs": []
    },
    {
      "cell_type": "code",
      "source": [
        "# Método insert\n",
        "x = [40, 30, 10, 20]\n",
        "x.insert(0, 99)\n",
        "print(x)"
      ],
      "metadata": {
        "id": "Uj3qV7imdwV5"
      },
      "execution_count": null,
      "outputs": []
    },
    {
      "cell_type": "code",
      "source": [
        "x = [40, 30, 10, 20]\n",
        "x.insert(10, 99)  # Se o índice for maior que o tamanho da lista, o elemento é adicionado ao final\n",
        "print(x)"
      ],
      "metadata": {
        "id": "hvX4uD_Cd269"
      },
      "execution_count": null,
      "outputs": []
    },
    {
      "cell_type": "code",
      "source": [
        "# Removendo elementos\n",
        "x = [40, 90, 10, 10, 20]\n",
        "del x[4]\n",
        "print(x)\n",
        "\n",
        "del x[2]\n",
        "print(x)"
      ],
      "metadata": {
        "id": "SnpYg8T6d3mN"
      },
      "execution_count": null,
      "outputs": []
    },
    {
      "cell_type": "code",
      "source": [
        "# Método remove\n",
        "x = [40, 90, 10, 20]\n",
        "x.remove(10)\n",
        "print(x)"
      ],
      "metadata": {
        "id": "HjTbfxIqd6TY"
      },
      "execution_count": null,
      "outputs": []
    },
    {
      "cell_type": "code",
      "source": [
        "# Método count\n",
        "x = [40, 90, 10, 20, 13, 20, 14]\n",
        "N = x.count(20)\n",
        "print(N)"
      ],
      "metadata": {
        "id": "y-dL48kld9i_"
      },
      "execution_count": null,
      "outputs": []
    },
    {
      "cell_type": "code",
      "source": [
        "# Inicialização de lista\n",
        "x = [0 for i in range(5)]\n",
        "print(x)\n",
        "\n",
        "x = [2 * i for i in range(5)]\n",
        "print(x)"
      ],
      "metadata": {
        "id": "foJwLCiaeA69"
      },
      "execution_count": null,
      "outputs": []
    },
    {
      "cell_type": "code",
      "source": [],
      "metadata": {
        "id": "0-NXrCxqeC0x"
      },
      "execution_count": null,
      "outputs": []
    }
  ]
}